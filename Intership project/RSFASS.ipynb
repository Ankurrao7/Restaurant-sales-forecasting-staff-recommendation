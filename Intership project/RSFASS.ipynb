{
 "cells": [
  {
   "cell_type": "code",
   "execution_count": null,
   "id": "566283b1-5ef3-4d99-9aeb-276180a20f5e",
   "metadata": {},
   "outputs": [
    {
     "name": "stdout",
     "output_type": "stream",
     "text": [
      "Model RMSE: 2261.96\n",
      "Future predictions and staff recommendations saved to 'staff_plan.csv'.\n",
      "        Date  DayOfWeek  Weather  Holiday  Customers  PredictedSales  \\\n",
      "0 2024-12-31          1        3        1        197       26855.100   \n",
      "1 2025-01-01          2        3        1        155       19765.060   \n",
      "2 2025-01-02          3        0        0         88       11894.791   \n",
      "3 2025-01-03          4        1        1        107       13827.230   \n",
      "4 2025-01-04          5        1        0        195       26860.196   \n",
      "\n",
      "   StaffNeeded  \n",
      "0            7  \n",
      "1            6  \n",
      "2            3  \n",
      "3            4  \n",
      "4            7  \n"
     ]
    }
   ],
   "source": [
    "import pandas as pd\n",
    "import numpy as np\n",
    "from sklearn.metrics import mean_squared_error\n",
    "import math\n",
    "\n",
    "df = pd.read_csv(\"restaurant_sales.csv\")\n",
    "df['Date'] = pd.to_datetime(df['Date'])\n",
    "df['DayOfWeek'] = df['Date'].dt.dayofweek\n",
    "\n",
    "df['Weather'] = df['Weather'].astype('category').cat.codes\n",
    "df['Holiday'] = df['Holiday'].map({'Yes': 1, 'No': 0})\n",
    "\n",
    "X = df[['DayOfWeek', 'Weather', 'Holiday', 'Customers']]\n",
    "y = df['Sales']\n",
    "from sklearn.ensemble import RandomForestRegressor\n",
    "from sklearn.model_selection import train_test_split\n",
    "\n",
    "\n",
    "\n",
    "X_train, X_test, y_train, y_test = train_test_split(X, y, test_size=0.2, random_state=42)\n",
    "model = RandomForestRegressor(n_estimators=100, random_state=42)\n",
    "model.fit(X_train, y_train)\n",
    "\n",
    "preds = model.predict(X_test)\n",
    "rmse = math.sqrt(mean_squared_error(y_test, preds))\n",
    "print(f\"Model RMSE: {rmse:.2f}\")\n",
    "\n",
    "\n",
    "future_dates = pd.date_range(start=df['Date'].max() + pd.Timedelta(days=1), periods=30)\n",
    "future_data = pd.DataFrame({\n",
    "    'Date': future_dates,\n",
    "    'DayOfWeek': future_dates.dayofweek,\n",
    "    'Weather': np.random.randint(0, 4, size=30),  \n",
    "    'Holiday': np.random.randint(0, 2, size=30),  \n",
    "    'Customers': np.random.randint(80, 200, size=30) customers\n",
    "})\n",
    "\n",
    "\n",
    "future_sales = model.predict(future_data[['DayOfWeek', 'Weather', 'Holiday', 'Customers']])\n",
    "future_data['PredictedSales'] = future_sales\n",
    "\n",
    "\n",
    "avg_customers_per_staff = 30\n",
    "future_data['StaffNeeded'] = future_data['Customers'].apply(lambda x: math.ceil(x / avg_customers_per_staff))\n",
    "\n",
    "\n",
    "future_data.to_csv(\"staff_plan.csv\", index=False)\n",
    "print(\"Future predictions and staff recommendations saved to 'staff_plan.csv'.\")\n",
    "\n",
    "print(future_data.head())\n"
   ]
  },
  {
   "cell_type": "code",
   "execution_count": null,
   "id": "9b3f2b9e-086d-45dd-8794-e97690ed019a",
   "metadata": {},
   "outputs": [],
   "source": []
  },
  {
   "cell_type": "code",
   "execution_count": null,
   "id": "2afb118b-f5fd-4f27-af72-a83b0f857ead",
   "metadata": {},
   "outputs": [],
   "source": []
  }
 ],
 "metadata": {
  "kernelspec": {
   "display_name": "Python 3 (ipykernel)",
   "language": "python",
   "name": "python3"
  },
  "language_info": {
   "codemirror_mode": {
    "name": "ipython",
    "version": 3
   },
   "file_extension": ".py",
   "mimetype": "text/x-python",
   "name": "python",
   "nbconvert_exporter": "python",
   "pygments_lexer": "ipython3",
   "version": "3.9.0"
  }
 },
 "nbformat": 4,
 "nbformat_minor": 5
}
